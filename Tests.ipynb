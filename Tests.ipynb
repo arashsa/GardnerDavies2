{
 "cells": [
  {
   "cell_type": "code",
   "execution_count": 3,
   "metadata": {},
   "outputs": [],
   "source": [
    "import os\n",
    "import json\n",
    "parts = []\n",
    "for subdir, dirs, files in os.walk('counts/millions/'):\n",
    "    for f in files:\n",
    "        parts.append(json.load(open('counts/millions/' + f)))"
   ]
  },
  {
   "cell_type": "code",
   "execution_count": 58,
   "metadata": {},
   "outputs": [],
   "source": [
    "def print_word(word):\n",
    "    for i in range(len(parts)):\n",
    "        if word in parts[i]:\n",
    "            print(parts[i][word])\n",
    "        else:\n",
    "            print('NAN')"
   ]
  },
  {
   "cell_type": "code",
   "execution_count": 119,
   "metadata": {},
   "outputs": [],
   "source": [
    "import math\n",
    "\n",
    "academic = json.load(open('lists/range_included.txt'))\n",
    "parts = []\n",
    "v = []\n",
    "f = 0.\n",
    "n = 100.\n",
    "\n",
    "for subdir, dirs, files in os.walk('counts/millions/'):\n",
    "    for f_ in files:\n",
    "        parts.append(json.load(open('counts/millions/' + f_)))\n",
    "\n",
    "# Get each word, go through corpus and get counts for each million tokens\n",
    "for key, value in academic.items():\n",
    "    for i in range(len(parts)):\n",
    "        if key in parts[i]:\n",
    "            v.append(parts[i][key])\n",
    "            f += parts[i][key]\n",
    "        else:\n",
    "            v.append(0)\n",
    "            \n",
    "    v_ = f / n\n",
    "    v_sum = 0.\n",
    "    for i in range(len(v)):\n",
    "        v_sum += (v[i] - v_) ** 2\n",
    "    \n",
    "    sd = math.sqrt(v_sum / (n - 1))\n",
    "    vc = sd / v_\n",
    "    juilland = 1 - (vc / math.sqrt(n - 1))\n",
    "    \n",
    "    # juilland measure of at least 0.80\n",
    "    # if juilland >= 0.80:\n",
    "    #     print(key, value, juilland)\n",
    "    # else:\n",
    "    #     print('NAN: ' + key, value, juilland)\n",
    "    \n",
    "    # reset\n",
    "    v = []\n",
    "    f = 0"
   ]
  },
  {
   "cell_type": "code",
   "execution_count": null,
   "metadata": {},
   "outputs": [],
   "source": [
    ""
   ]
  }
 ],
 "metadata": {
  "kernelspec": {
   "display_name": "Python 2",
   "language": "python",
   "name": "python2"
  },
  "language_info": {
   "codemirror_mode": {
    "name": "ipython",
    "version": 2.0
   },
   "file_extension": ".py",
   "mimetype": "text/x-python",
   "name": "python",
   "nbconvert_exporter": "python",
   "pygments_lexer": "ipython2",
   "version": "2.7.10"
  }
 },
 "nbformat": 4,
 "nbformat_minor": 0
}